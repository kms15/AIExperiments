{
 "cells": [
  {
   "cell_type": "code",
   "execution_count": 1,
   "metadata": {},
   "outputs": [],
   "source": [
    "using Test"
   ]
  },
  {
   "cell_type": "markdown",
   "metadata": {},
   "source": [
    "# Basic experiments with reverse autodiff\n",
    "\n",
    "(this is not intended to be a full implementation of autodiff; just an exercise to understand how autodiff can be implemented)"
   ]
  },
  {
   "cell_type": "markdown",
   "metadata": {},
   "source": [
    "First, construct a context to store the sensitivity dependencies when doing the forward pass"
   ]
  },
  {
   "cell_type": "code",
   "execution_count": 2,
   "metadata": {},
   "outputs": [],
   "source": [
    "mutable struct AutodiffContext{T}\n",
    "    numparams :: Int\n",
    "    updatesources :: Array{Int,1}\n",
    "    updatetargets :: Array{Int,1}\n",
    "    updateweights :: Array{T,1}\n",
    "end\n",
    "\n",
    "function AutodiffContext{T}() where T\n",
    "    return AutodiffContext{T}(0, Array{Int}(undef, 0), Array{Int}(undef, 0), Array{T}(undef, 0))\n",
    "end"
   ]
  },
  {
   "cell_type": "markdown",
   "metadata": {},
   "source": [
    "Next, construct a type used to propagate values that will have their sensitivity tracked"
   ]
  },
  {
   "cell_type": "code",
   "execution_count": 3,
   "metadata": {},
   "outputs": [],
   "source": [
    "struct ForwardVal{T}\n",
    "    value :: T\n",
    "    index :: Int\n",
    "    context :: AutodiffContext\n",
    "end\n",
    "\n",
    "function ForwardVal(value::T, context::AutodiffContext{T}) where T\n",
    "    context.numparams += 1\n",
    "    index = context.numparams\n",
    "    return ForwardVal(value, index, context)\n",
    "end\n",
    ";"
   ]
  },
  {
   "cell_type": "markdown",
   "metadata": {},
   "source": [
    "Then we define how to propagate the sensitivity through various operations.  We start with addition:"
   ]
  },
  {
   "cell_type": "code",
   "execution_count": 4,
   "metadata": {},
   "outputs": [],
   "source": [
    "function (Base.:+)(a::ForwardVal{T}, b::T) where T\n",
    "    # create a new node for this operator\n",
    "    context = a.context\n",
    "    result = ForwardVal(a.value + b, context)\n",
    "\n",
    "    # add instructions to include this operator's sensitivity in a's sensitivity \n",
    "    push!(context.updatesources, result.index)\n",
    "    push!(context.updatetargets, a.index)\n",
    "    push!(context.updateweights, one(T))\n",
    "    \n",
    "    return result\n",
    "end\n",
    "\n",
    "function (Base.:+)(a::T, b::ForwardVal{T}) where T\n",
    "    return b + a\n",
    "end\n",
    "\n",
    "function (Base.:+)(a::ForwardVal{T}, b::ForwardVal{T}) where T\n",
    "    result = a + b.value\n",
    "    \n",
    "    # add instructions to include this operator's sensitivity in b's sensitivity \n",
    "    push!(context.updatesources, result.index)\n",
    "    push!(context.updatetargets, b.index)\n",
    "    push!(context.updateweights, one(T))\n",
    "    \n",
    "    return result\n",
    "end"
   ]
  },
  {
   "cell_type": "markdown",
   "metadata": {},
   "source": [
    "We next add multiplication:"
   ]
  },
  {
   "cell_type": "code",
   "execution_count": 5,
   "metadata": {},
   "outputs": [],
   "source": [
    "function (Base.:*)(a::ForwardVal{T}, b::T) where T\n",
    "    # create a new node for this operator\n",
    "    context = a.context\n",
    "    result = ForwardVal(a.value * b, context)\n",
    "\n",
    "    # add instructions to include this operator's sensitivity in a's sensitivity \n",
    "    push!(context.updatesources, result.index)\n",
    "    push!(context.updatetargets, a.index)\n",
    "    push!(context.updateweights, b)\n",
    "    \n",
    "    return result\n",
    "end\n",
    "\n",
    "function (Base.:*)(a::T, b::ForwardVal{T}) where T\n",
    "    return b * a\n",
    "end\n",
    "\n",
    "function (Base.:*)(a::ForwardVal{T}, b::ForwardVal{T}) where T\n",
    "    result = a * b.value\n",
    "    \n",
    "    # add instructions to include this operator's sensitivity in b's sensitivity \n",
    "    push!(context.updatesources, result.index)\n",
    "    push!(context.updatetargets, b.index)\n",
    "    push!(context.updateweights, a.value)\n",
    "    \n",
    "    return result\n",
    "end"
   ]
  },
  {
   "cell_type": "markdown",
   "metadata": {},
   "source": [
    "For simplicity, we'll stop here.  It should be obvious how to extend this to additional operations like division and exponentiation and to non-binary operators.  This would be needed for real-world use, but it would just complicate this exercise without really adding educational value."
   ]
  },
  {
   "cell_type": "markdown",
   "metadata": {},
   "source": [
    "We next define a function to test this with (limiting ourselves to the operations we defined)."
   ]
  },
  {
   "cell_type": "code",
   "execution_count": 6,
   "metadata": {},
   "outputs": [],
   "source": [
    "f(x, a, b, c) = ((((3. *a)*x)*x + 2. *b*x) + c) + 1.;"
   ]
  },
  {
   "cell_type": "markdown",
   "metadata": {},
   "source": [
    "As a reference to test our results against, we'll hand-compute the partial derivatives in symbolic form. "
   ]
  },
  {
   "cell_type": "code",
   "execution_count": 7,
   "metadata": {},
   "outputs": [],
   "source": [
    "f_x(x, a, b, c) = 6a*x + 2b\n",
    "f_a(x, a, b, c) = 3x^2\n",
    "f_b(x, a, b, c) = 2x\n",
    "f_c(x, a, b, c) = 1;"
   ]
  },
  {
   "cell_type": "markdown",
   "metadata": {},
   "source": [
    "We construct forward wrappers for each of the parameters and propagate them through the function"
   ]
  },
  {
   "cell_type": "code",
   "execution_count": 8,
   "metadata": {},
   "outputs": [
    {
     "data": {
      "text/plain": [
       "ForwardVal{Float64}(84.0, 12, AutodiffContext{Float64}(12, [5, 6, 6, 7, 7, 8, 9, 9, 10, 10, 11, 11, 12], [2, 5, 1, 6, 1, 3, 8, 1, 7, 9, 10, 4, 11], [3.0, 3.0, 6.0, 3.0, 18.0, 2.0, 3.0, 8.0, 1.0, 1.0, 1.0, 1.0, 1.0]))"
      ]
     },
     "execution_count": 8,
     "metadata": {},
     "output_type": "execute_result"
    }
   ],
   "source": [
    "context = AutodiffContext{Float64}()\n",
    "x₀ = 3.0\n",
    "a₀ = 2.0\n",
    "b₀ = 4.0\n",
    "c₀ = 5.0\n",
    "\n",
    "xforward = ForwardVal(x₀, context)\n",
    "aforward = ForwardVal(a₀, context)\n",
    "bforward = ForwardVal(b₀, context)\n",
    "cforward = ForwardVal(c₀, context)\n",
    "\n",
    "fforward = f(xforward, aforward, bforward, cforward)"
   ]
  },
  {
   "cell_type": "markdown",
   "metadata": {},
   "source": [
    "Let's just confirm that we calculated the correct value of the function itself:"
   ]
  },
  {
   "cell_type": "code",
   "execution_count": 9,
   "metadata": {},
   "outputs": [
    {
     "data": {
      "text/plain": [
       "\u001b[32m\u001b[1mTest Passed\u001b[22m\u001b[39m"
      ]
     },
     "execution_count": 9,
     "metadata": {},
     "output_type": "execute_result"
    }
   ],
   "source": [
    "@test fforward.value == f(x₀, a₀, b₀, c₀)"
   ]
  },
  {
   "cell_type": "markdown",
   "metadata": {},
   "source": [
    "Now we back-propagate using the data we gathered during the forward pass"
   ]
  },
  {
   "cell_type": "code",
   "execution_count": 10,
   "metadata": {},
   "outputs": [],
   "source": [
    "function back(context::AutodiffContext{T}) where T\n",
    "    result = zeros(T, context.numparams)\n",
    "    \n",
    "    # sensitivity of the final result on itself is 1\n",
    "    result[end] = one(T)\n",
    "    \n",
    "    # back-propagate the sensitivities\n",
    "    for i = length(context.updateweights):-1:1\n",
    "        result[context.updatetargets[i]] += result[context.updatesources[i]] * context.updateweights[i]\n",
    "    end\n",
    "    \n",
    "    return result\n",
    "end\n",
    ";"
   ]
  },
  {
   "cell_type": "code",
   "execution_count": 11,
   "metadata": {},
   "outputs": [
    {
     "data": {
      "text/plain": [
       "12-element Array{Float64,1}:\n",
       " 44.0\n",
       " 27.0\n",
       "  6.0\n",
       "  1.0\n",
       "  9.0\n",
       "  3.0\n",
       "  1.0\n",
       "  3.0\n",
       "  1.0\n",
       "  1.0\n",
       "  1.0\n",
       "  1.0"
      ]
     },
     "execution_count": 11,
     "metadata": {},
     "output_type": "execute_result"
    }
   ],
   "source": [
    "sensitivities = back(fforward.context)"
   ]
  },
  {
   "cell_type": "markdown",
   "metadata": {},
   "source": [
    "We now pull out the sensitivities for each parameter and confim that they match the partial derivatives of f that we hand calculated"
   ]
  },
  {
   "cell_type": "code",
   "execution_count": 12,
   "metadata": {},
   "outputs": [
    {
     "data": {
      "text/plain": [
       "\u001b[32m\u001b[1mTest Passed\u001b[22m\u001b[39m"
      ]
     },
     "execution_count": 12,
     "metadata": {},
     "output_type": "execute_result"
    }
   ],
   "source": [
    "@test sensitivities[xforward.index] == f_x(x₀, a₀, b₀, c₀)\n",
    "@test sensitivities[aforward.index] == f_a(x₀, a₀, b₀, c₀)\n",
    "@test sensitivities[bforward.index] == f_b(x₀, a₀, b₀, c₀)\n",
    "@test sensitivities[cforward.index] == f_c(x₀, a₀, b₀, c₀)"
   ]
  },
  {
   "cell_type": "markdown",
   "metadata": {},
   "source": [
    "We thus appear to have a working example of reverse autodiff."
   ]
  }
 ],
 "metadata": {
  "kernelspec": {
   "display_name": "Julia (44 threads) 1.0.3",
   "language": "julia",
   "name": "julia-(44-threads)-1.0"
  },
  "language_info": {
   "file_extension": ".jl",
   "mimetype": "application/julia",
   "name": "julia",
   "version": "1.0.3"
  }
 },
 "nbformat": 4,
 "nbformat_minor": 2
}
